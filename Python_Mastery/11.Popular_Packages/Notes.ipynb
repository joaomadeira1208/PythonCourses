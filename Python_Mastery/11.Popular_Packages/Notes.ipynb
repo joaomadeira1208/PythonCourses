{
 "cells": [
  {
   "cell_type": "markdown",
   "metadata": {},
   "source": [
    "# Popular packages"
   ]
  },
  {
   "cell_type": "markdown",
   "metadata": {},
   "source": [
    "## 1. API"
   ]
  },
  {
   "cell_type": "markdown",
   "metadata": {},
   "source": [
    "Simple terms: API's are endpoints that are publicly accessible on the internet"
   ]
  },
  {
   "cell_type": "markdown",
   "metadata": {},
   "source": [
    "- Requests URL: `https://api.example.com/v1/endpoint`\n",
    "- Request Method: `GET`(getting data), `POST`(creating data), `PUT`(updating data), `DELETE`(deleting data)\n"
   ]
  },
  {
   "cell_type": "markdown",
   "metadata": {},
   "source": [
    "## 2. YELP API"
   ]
  },
  {
   "cell_type": "markdown",
   "metadata": {},
   "source": [
    "### Searching for business"
   ]
  },
  {
   "cell_type": "code",
   "execution_count": 8,
   "metadata": {},
   "outputs": [
    {
     "name": "stdout",
     "output_type": "stream",
     "text": [
      "[\"Barber's Point\", '12 Pell', 'Soho NYC Barbers', 'The Kinsman Barber Shop', 'Ace of Cuts Barber Shop', 'On the Mark Barbershop', 'Rafaels Barbershop', \"Gentlemen's Barbershop\", 'Fellow Barber', 'Euro Barber Shop', 'Hairrari East Village']\n"
     ]
    }
   ],
   "source": [
    "import requests\n",
    "\n",
    "url = \"https://api.yelp.com/v3/businesses/search\"\n",
    "api_key = \"your_api_key\"\n",
    "headers = {\n",
    "    \"Authorization\": \"Bearer \" + api_key\n",
    "}\n",
    "\n",
    "params = {\n",
    "    \"term\": \"Barber\",\n",
    "    \"location\": \"New York City\"\n",
    "}\n",
    "\n",
    "response = requests.get(url, headers=headers, params=params)\n",
    "businesses = response.json()[\"businesses\"]\n",
    "names = [business[\"name\"] for business in businesses if business[\"rating\"] > 4.5]\n",
    "print(names)"
   ]
  },
  {
   "cell_type": "markdown",
   "metadata": {},
   "source": [
    "### Hiding API key"
   ]
  },
  {
   "cell_type": "markdown",
   "metadata": {},
   "source": [
    "Create a file .gitignore to hide your API key."
   ]
  },
  {
   "cell_type": "code",
   "execution_count": 9,
   "metadata": {},
   "outputs": [
    {
     "name": "stdout",
     "output_type": "stream",
     "text": [
      "[\"Barber's Point\", '12 Pell', 'Soho NYC Barbers', 'The Kinsman Barber Shop', 'Ace of Cuts Barber Shop', 'On the Mark Barbershop', 'Rafaels Barbershop', \"Gentlemen's Barbershop\", 'Fellow Barber', 'Euro Barber Shop', 'Hairrari East Village']\n"
     ]
    }
   ],
   "source": [
    "import requests\n",
    "import config\n",
    "\n",
    "url = \"https://api.yelp.com/v3/businesses/search\"\n",
    "headers = {\n",
    "    \"Authorization\": \"Bearer \" + config.api_key\n",
    "}\n",
    "\n",
    "params = {\n",
    "    \"term\": \"Barber\",\n",
    "    \"location\": \"New York City\"\n",
    "}\n",
    "\n",
    "response = requests.get(url, headers=headers, params=params)\n",
    "businesses = response.json()[\"businesses\"]\n",
    "names = [business[\"name\"] for business in businesses if business[\"rating\"] > 4.5]\n",
    "print(names)"
   ]
  }
 ],
 "metadata": {
  "kernelspec": {
   "display_name": "env",
   "language": "python",
   "name": "python3"
  },
  "language_info": {
   "codemirror_mode": {
    "name": "ipython",
    "version": 3
   },
   "file_extension": ".py",
   "mimetype": "text/x-python",
   "name": "python",
   "nbconvert_exporter": "python",
   "pygments_lexer": "ipython3",
   "version": "3.12.0"
  }
 },
 "nbformat": 4,
 "nbformat_minor": 2
}
